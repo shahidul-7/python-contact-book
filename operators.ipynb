{
 "cells": [
  {
   "cell_type": "code",
   "execution_count": 4,
   "metadata": {},
   "outputs": [
    {
     "name": "stdout",
     "output_type": "stream",
     "text": [
      "20\n"
     ]
    }
   ],
   "source": [
    "x = 10\n",
    "\n",
    "x += 10\n",
    "\n",
    "print(x)"
   ]
  },
  {
   "cell_type": "code",
   "execution_count": 10,
   "metadata": {},
   "outputs": [
    {
     "name": "stdout",
     "output_type": "stream",
     "text": [
      "4.4\n"
     ]
    }
   ],
   "source": [
    "x = 22\n",
    "x /=5\n",
    "\n",
    "print(x)"
   ]
  },
  {
   "cell_type": "code",
   "execution_count": 3,
   "metadata": {},
   "outputs": [
    {
     "name": "stdout",
     "output_type": "stream",
     "text": [
      "4\n"
     ]
    }
   ],
   "source": [
    "x = 22\n",
    "x //=5\n",
    "\n",
    "print(x)"
   ]
  },
  {
   "cell_type": "code",
   "execution_count": 2,
   "metadata": {},
   "outputs": [
    {
     "name": "stdout",
     "output_type": "stream",
     "text": [
      "x value is 50 and y value is 60\n",
      "x value is 60 and y value is 50\n"
     ]
    }
   ],
   "source": [
    "#Swapping \n",
    "x = 50\n",
    "y = 60 \n",
    "print(f\"x value is {x} and y value is {y}\")\n",
    "\n",
    "x, y = y, x\n",
    "print(f\"x value is {x} and y value is {y}\")"
   ]
  },
  {
   "cell_type": "code",
   "execution_count": 7,
   "metadata": {},
   "outputs": [
    {
     "name": "stdout",
     "output_type": "stream",
     "text": [
      "Your User Name is: Shahidul and password is: 12345\n"
     ]
    }
   ],
   "source": [
    "#User Input\n",
    "username = input(\"Please insert your User Name: \")\n",
    "password = input(\"Please enter your password: \" )\n",
    "print(f\"Your User Name is: {username} and password is: {password}\")"
   ]
  },
  {
   "cell_type": "code",
   "execution_count": 17,
   "metadata": {},
   "outputs": [
    {
     "name": "stdout",
     "output_type": "stream",
     "text": [
      "Sorry, fff brand mobile is not availabe in our stock!\n"
     ]
    }
   ],
   "source": [
    "#User Input Mobile brand search model\n",
    "\n",
    "MobileName = input(\"Please enter the mobile brand what you want to purchase: \")\n",
    "\n",
    "MobileModels = [\"iPhone\", \"Samsung\", \"Realme\", \"Oppo\", \"Honor\", \"Xioami\"]\n",
    "\n",
    "if MobileName in MobileModels:\n",
    "    print(f\"You have choosen {MobileName} brand mobile\")\n",
    "else:\n",
    "    print(f\"Sorry, {MobileName} brand mobile is not availabe in our stock!\")"
   ]
  },
  {
   "cell_type": "code",
   "execution_count": 19,
   "metadata": {},
   "outputs": [
    {
     "name": "stdout",
     "output_type": "stream",
     "text": [
      "34\n",
      "<class 'str'>\n",
      "45.0\n"
     ]
    }
   ],
   "source": [
    "#Type Casting\n",
    "age = \"34\"\n",
    "\n",
    "print(int(age))\n",
    "print(type(age))\n",
    "\n",
    "floatAge = \"45\"\n",
    "\n",
    "print(float(floatAge))\n"
   ]
  },
  {
   "cell_type": "code",
   "execution_count": 32,
   "metadata": {},
   "outputs": [
    {
     "name": "stdout",
     "output_type": "stream",
     "text": [
      "[1, 2, 3, 4, 5, 6, 6]\n",
      "[1, 2, 4, 5, 6, 6, 'Pakhi', 'Shahidul', 'Sumaya', 'Tasfia', 'Yamin']\n"
     ]
    }
   ],
   "source": [
    "#Python List\n",
    "\n",
    "MyList = [1, 2, 3, 4, 5, 6, 6]\n",
    "print(MyList)\n",
    "\n",
    "MyList[2] = 444 # Change item\n",
    "\n",
    "MyList.append(\"Pakhi\") #insert list item as last items\n",
    "MyList.insert(2, \"Mon\") #Insert list item to the specific index\n",
    "MyList.extend([\"Shahidul\", \"Sumaya\", \"Tasfia\", \"Yamin\"])\n",
    "MyList.remove(\"Mon\") #Remove a item\n",
    "MyList.pop(2) #Remove with index number\n",
    "\n",
    "print(MyList)\n",
    "\n"
   ]
  },
  {
   "cell_type": "code",
   "execution_count": 50,
   "metadata": {},
   "outputs": [
    {
     "name": "stdout",
     "output_type": "stream",
     "text": [
      "Sumaya\n",
      "Alim\n",
      "Omar\n",
      "Moom\n",
      "\n",
      "index Numbers: \n",
      "0\n",
      "1\n",
      "2\n",
      "3\n",
      "\n",
      "List With While loop:\n",
      "Sumaya\n",
      "Alim\n",
      "Omar\n",
      "Moom\n",
      "\n",
      "List Comprenshion:\n",
      "['SumayaSumaya', 'AlimAlim', 'OmarOmar', 'MoomMoom']\n"
     ]
    }
   ],
   "source": [
    "#Python Loop list \n",
    "\n",
    "MyList2 = [\"Sumaya\", \"Alim\", \"Omar\", \"Moom\"]\n",
    "\n",
    "for broandsis in MyList2:\n",
    "    print(broandsis)\n",
    "print(\"\\nindex Numbers: \")\n",
    "for broandsis_index in range(len(MyList2)):\n",
    "    print(broandsis_index)\n",
    "\n",
    "print(\"\\nList With While loop:\")\n",
    "indexDefaultValue = 0 \n",
    "\n",
    "while indexDefaultValue < len(MyList2):\n",
    "    print(MyList2[indexDefaultValue])\n",
    "    indexDefaultValue += 1\n",
    "\n",
    "\n",
    "print(\"\\nList Comprenshion:\")\n",
    "double =[i*2 for i in MyList2]\n",
    "print(double)"
   ]
  },
  {
   "cell_type": "code",
   "execution_count": 57,
   "metadata": {},
   "outputs": [
    {
     "name": "stdout",
     "output_type": "stream",
     "text": [
      "['Sumaya', 'Alim', 'Omar']\n"
     ]
    }
   ],
   "source": [
    "#List Short \n",
    "famalyMembers = [\"Sumaya\", \"Alim\", \"Omar\", \"Moom\"]\n",
    "\n",
    "\n",
    "print(famalyMembers[0:-1])"
   ]
  },
  {
   "cell_type": "code",
   "execution_count": 72,
   "metadata": {},
   "outputs": [
    {
     "name": "stdout",
     "output_type": "stream",
     "text": [
      "('Shahidul', 'Sumaya', 'Tasfia', 'Yeamin')\n",
      "['Shahidul', 'Sumaya', 'Tasfia', 'Yeamin', 'Usman']\n",
      "('Shahidul', 'Sumaya', 'Tasfia', 'Yeamin', 'Usman')\n",
      "\n",
      "['Banana', 'Orange', 'Apple']\n"
     ]
    }
   ],
   "source": [
    "#Tupple\n",
    "\n",
    "MyTupple = (\"Shahidul\", \"Sumaya\", \"Tasfia\", \"Yeamin\")\n",
    "\n",
    "makeList = list(MyTupple)\n",
    "print(MyTupple)\n",
    "makeList.append(\"Usman\")\n",
    "print(makeList)\n",
    "MyTupple = tuple(makeList)\n",
    "print(MyTupple)\n",
    "\n",
    "print()\n",
    "(a, *b, c) = (\"Mango\", \"Banana\", \"Orange\", \"Apple\", \"Lichie\")\n",
    "print(b)"
   ]
  },
  {
   "cell_type": "code",
   "execution_count": 78,
   "metadata": {},
   "outputs": [
    {
     "name": "stdout",
     "output_type": "stream",
     "text": [
      "Shahidul\n",
      "Sumaya\n",
      "Tasfia\n",
      "Yeamin\n",
      "Usman\n",
      "\n",
      "Shahidul\n",
      "Sumaya\n",
      "Tasfia\n",
      "Yeamin\n",
      "Usman\n",
      "\n",
      "[1, 2, 4, 5, 6, 6, 'Pakhi', 'Shahidul', 'Sumaya', 'Tasfia', 'Yamin', 'Shahidul', 'Sumaya', 'Tasfia', 'Yeamin', 'Usman', 'Shahidul', 'Sumaya', 'Tasfia', 'Yeamin', 'Usman', 'Shahidul', 'Sumaya', 'Tasfia', 'Yeamin', 'Usman']\n"
     ]
    }
   ],
   "source": [
    "for x in MyTupple:\n",
    "    print(x)\n",
    "\n",
    "print()\n",
    "\n",
    "for x in range(len(MyTupple)):\n",
    "    print(MyTupple[x])\n",
    "\n",
    "print()\n",
    "MyList.extend(makeList)\n",
    "print(MyList)"
   ]
  },
  {
   "cell_type": "code",
   "execution_count": 84,
   "metadata": {},
   "outputs": [
    {
     "name": "stdout",
     "output_type": "stream",
     "text": [
      "{1, 2, 3, 4, 5, 'Hablu', 'Sakib', 6, 7, 8, 9, 'Rasel', 10, 'Nahid', 'Faijul', 'Rayhan', 'Nasim', 'Sumit'}\n",
      "{1, 2, 3, 4, 5, 6, 7, 8, 9, 10, 'Rasel', 'Nasim', 'Sakib', 'Hablu', 'None', 'Nahid', 'Faijul', 'Rayhan', 'Sumit'}\n",
      "{1, 2, 3, 4, 5, 'Hablu', 'Rasel', 'Nasim', 'Sumit'}\n"
     ]
    }
   ],
   "source": [
    "#Set\n",
    "\n",
    "MySet1 = {1, 2, 3, 4, 5, \"Hablu\", \"Nasim\", \"Rasel\", \"Sumit\"}\n",
    "MySet2 = {6, 7, 8, 9, 10, \"Sakib\", \"Nahid\", \"Faijul\", \"Rayhan\"}\n",
    "\n",
    "MySet3 = MySet1.union(MySet2)\n",
    "\n",
    "print(MySet3)\n",
    "\n",
    "MySet2.add(\"None\") #Add item to the set\n",
    "\n",
    "MySet2.update(MySet1)\n",
    "print(MySet2)\n",
    "\n",
    "print(MySet1.difference(MyList2)) #See difference between set"
   ]
  },
  {
   "cell_type": "code",
   "execution_count": 104,
   "metadata": {},
   "outputs": [
    {
     "name": "stdout",
     "output_type": "stream",
     "text": [
      "{'identity': {'name': 'Shahidul', 'Education': 'MA', 'Age': 35, 'Job': 'Freelance'}, 'Car': {'Name': 'BMW', 'Model': 330, 'Year': 2020, 'Price': 3.0}, 'Dict Creator': 'Shahidul'}\n",
      "\n",
      "{'Name': 'Marcityes', 'Model': 330, 'Year': 2020, 'Price': 3.0}\n",
      "\n",
      "identity {'name': 'Shahidul', 'Education': 'MA', 'Age': 35, 'Job': 'Freelance'}\n",
      "Car {'Name': 'Marcityes', 'Model': 330, 'Year': 2020, 'Price': 3.0}\n",
      "\n",
      "{'identity': {'name': 'Shahidul', 'Education': 'MA', 'Age': 35, 'Job': 'Freelance'}, 'Car': {'Name': 'Marcityes', 'Model': 330, 'Year': 2020, 'Price': 3.0}}\n"
     ]
    }
   ],
   "source": [
    "#Dictionary\n",
    "mydict = {\n",
    "    \"identity\" : {\n",
    "        \"name\" : \"Shahidul\",\n",
    "        \"Education\" : \"MA\",\n",
    "        \"Age\" : 35,\n",
    "        \"Job\" : \"Freelance\"\n",
    "    },\n",
    "    \"Car\" : {\n",
    "        \"Name\" : \"BMW\",\n",
    "        \"Model\" : 330,\n",
    "        \"Year\" : 2020,\n",
    "        \"Price\" : 3.000\n",
    "    },\n",
    "    \"Dict Creator\" : \"Shahidul\"\n",
    "}\n",
    "\n",
    "print(mydict)\n",
    "\n",
    "print()\n",
    "\n",
    "mydict[\"Car\"][\"Name\"] = \"Marcityes\" #Update items in nested dictionary\n",
    "print(mydict[\"Car\"])\n",
    "\n",
    "mydict.popitem() #Remove last item\n",
    "\n",
    "print()\n",
    "\n",
    "for x, y in mydict.items():\n",
    "    print(x,y)\n",
    "\n",
    "print()\n",
    "mydict2 = dict(mydict)\n",
    "print(mydict2)"
   ]
  },
  {
   "cell_type": "code",
   "execution_count": 106,
   "metadata": {},
   "outputs": [
    {
     "name": "stdout",
     "output_type": "stream",
     "text": [
      "0\n",
      "1\n",
      "2\n",
      "3\n",
      "4\n",
      "5\n",
      "6\n",
      "7\n",
      "8\n",
      "9\n",
      "10\n",
      "11\n",
      "12\n",
      "13\n",
      "14\n",
      "15\n",
      "16\n",
      "17\n",
      "18\n",
      "19\n",
      "20\n",
      "21\n",
      "22\n",
      "23\n",
      "24\n",
      "25\n",
      "26\n",
      "27\n",
      "28\n",
      "29\n",
      "30\n",
      "31\n",
      "32\n",
      "33\n",
      "34\n",
      "35\n",
      "36\n",
      "37\n",
      "38\n",
      "39\n",
      "40\n",
      "41\n",
      "42\n",
      "43\n",
      "44\n",
      "45\n",
      "46\n",
      "47\n",
      "48\n",
      "49\n",
      "50\n",
      "51\n",
      "52\n",
      "53\n",
      "54\n",
      "55\n",
      "56\n",
      "57\n",
      "58\n",
      "59\n",
      "60\n",
      "61\n",
      "62\n",
      "63\n",
      "64\n",
      "65\n",
      "66\n",
      "67\n",
      "68\n",
      "69\n",
      "70\n",
      "71\n",
      "72\n",
      "73\n",
      "74\n",
      "75\n",
      "76\n",
      "77\n",
      "78\n",
      "79\n",
      "80\n",
      "81\n",
      "82\n",
      "83\n",
      "84\n",
      "85\n",
      "86\n",
      "87\n",
      "88\n",
      "89\n",
      "90\n",
      "91\n",
      "92\n",
      "93\n",
      "94\n",
      "95\n",
      "96\n",
      "97\n",
      "98\n",
      "99\n"
     ]
    }
   ],
   "source": [
    "#While Loop\n",
    "counter = 0\n",
    "\n",
    "while counter < 100:\n",
    "    print(counter)\n",
    "    counter += 1"
   ]
  },
  {
   "cell_type": "code",
   "execution_count": 114,
   "metadata": {},
   "outputs": [
    {
     "name": "stdout",
     "output_type": "stream",
     "text": [
      "90\n",
      "490\n",
      "110\n"
     ]
    }
   ],
   "source": [
    "#Functions\n",
    "\n",
    "def myfunction(a, b):\n",
    "    sum = a+b\n",
    "    print(sum)\n",
    "\n",
    "myfunction(40, 50)\n",
    "myfunction(440, 50)\n",
    "myfunction(60, 50)"
   ]
  },
  {
   "cell_type": "code",
   "execution_count": 119,
   "metadata": {},
   "outputs": [
    {
     "name": "stdout",
     "output_type": "stream",
     "text": [
      "Shahidul\n",
      "Helal\n",
      "1\n",
      "2\n",
      "3\n"
     ]
    }
   ],
   "source": [
    "#Break and Continue\n",
    "\n",
    "HablueList = [\"Shahidul\", \"Helal\", 1, 2, 3, 4, 5, 6, 7, 8, 9, 10]\n",
    "\n",
    "for x in HablueList:\n",
    "    if x == 4:\n",
    "        break\n",
    "    print(x)"
   ]
  },
  {
   "cell_type": "code",
   "execution_count": 3,
   "metadata": {},
   "outputs": [
    {
     "name": "stdout",
     "output_type": "stream",
     "text": [
      "[('Shahidul', 'Software Engenier'), ('Zahid', 'Teacher'), ('Mahade', 'Lecturer'), ('Mamun', 'Airport')]\n"
     ]
    }
   ],
   "source": [
    "#Zip \n",
    "\n",
    "ziplist1 = [\"Shahidul\", \"Zahid\", \"Mahade\", \"Mamun\"]\n",
    "ziplist2 = [\"Software Engenier\", \"Teacher\", \"Lecturer\", \"Airport\"]\n",
    "\n",
    "ziplist3 = list(zip(ziplist1, ziplist2))\n",
    "\n",
    "print(ziplist3)"
   ]
  },
  {
   "cell_type": "code",
   "execution_count": 10,
   "metadata": {},
   "outputs": [
    {
     "name": "stdout",
     "output_type": "stream",
     "text": [
      "Shahidul\n",
      "35\n"
     ]
    }
   ],
   "source": [
    "#Calses and Objects\n",
    "\n",
    "class identity:\n",
    "    Name = \"\",\n",
    "    Age = \"\"\n",
    "\n",
    "a = identity()\n",
    "\n",
    "a.Name = \"Shahidul\"\n",
    "a.Age = \"35\"\n",
    "\n",
    "print(a.Name)\n",
    "print(a.Age)"
   ]
  },
  {
   "cell_type": "code",
   "execution_count": 18,
   "metadata": {},
   "outputs": [
    {
     "name": "stdout",
     "output_type": "stream",
     "text": [
      "Person Name:  Shahidul\n",
      "Person Age:  35\n",
      "\n",
      "Person Name:  Sumaya\n",
      "Person Age:  28\n"
     ]
    }
   ],
   "source": [
    "#Class and Object with __init__ function\n",
    "class person:\n",
    "    def __init__(self, name, age):\n",
    "        self.personName = name\n",
    "        self.personAge = age\n",
    "\n",
    "    def show(self):\n",
    "        print(\"Person Name: \", self.personName)\n",
    "        print(\"Person Age: \", self.personAge)\n",
    "\n",
    "ob1 = person(\"Shahidul\", 35)\n",
    "ob2 = person(\"Sumaya\", 28)\n",
    "\n",
    "ob1.show()\n",
    "print()\n",
    "ob2.show()"
   ]
  },
  {
   "cell_type": "code",
   "execution_count": 37,
   "metadata": {},
   "outputs": [
    {
     "name": "stdout",
     "output_type": "stream",
     "text": [
      "Person Name 2:  Mon\n",
      "Person Age:  35\n",
      "Proccessor Name:  Intel\n",
      "Morther Board Brand: ARSRocks\n"
     ]
    }
   ],
   "source": [
    "#Inheritance\n",
    "\n",
    "class computer(person):\n",
    "    def __init__(self, name, age, proccesor, matharboard):\n",
    "        super().__init__(name, age)\n",
    "        self.ProcessorBrand = proccesor\n",
    "        self.MboardBrand = matharboard\n",
    "\n",
    "    def showPC(self):\n",
    "        print(\"Person Name 2: \", self.personName)\n",
    "        print(\"Person Age: \", self.personAge)\n",
    "        print(\"Proccessor Name: \", self.ProcessorBrand)\n",
    "        print(\"Morther Board Brand:\",self.MboardBrand)\n",
    "\n",
    "PC1 = computer(\"Mon\", 35, \"Intel\",  \"ARSRocks\")\n",
    "\n",
    "PC1.showPC()"
   ]
  },
  {
   "cell_type": "code",
   "execution_count": 54,
   "metadata": {},
   "outputs": [
    {
     "name": "stdout",
     "output_type": "stream",
     "text": [
      "['a', 'd', 'a', 'a', 'e', 'e', 'a', 'a', 'e', 'c', 'a', 'd', 'e', 'a', 'b', 'e', 'a', 'e', 'e', 'a', 'e', 'a', 'e', 'b', 'd', 'e', 'e', 'e']\n",
      "Yes!\n"
     ]
    }
   ],
   "source": [
    "#RegEX\n",
    "\n",
    "import re\n",
    "\n",
    "MainText = \"Shahidul is a programmer who love Python language so much and he want to be a ML enginear. He is a 5* web developer.\"\n",
    "SpcialCharectre = \"1 Once upon a time there were a dog lives in a village. She was a # mon and number  cheater 1\"\n",
    "\n",
    "findText = re.findall(\"[a-f]\", MainText)\n",
    "fineSpecial = re.findall(\"1$\", SpcialCharectre)\n",
    "\n",
    "print(findText)\n",
    "\n",
    "\n",
    "if fineSpecial:\n",
    "    print(\"Yes!\")\n",
    "else:\n",
    "    print(\"Sorry\")"
   ]
  },
  {
   "cell_type": "code",
   "execution_count": 93,
   "metadata": {},
   "outputs": [
    {
     "name": "stdout",
     "output_type": "stream",
     "text": [
      "\n",
      "Hello How are you?\n",
      "Hello How are you?\n",
      "Hello How are you?\n",
      "Hello How are you?\n",
      " and what about you? and what about you?Hello How are you?\n",
      "and what about you?Hello How are you?\n",
      "and what about you?Hello How are you?\n",
      "and what about you?Hello How are you?\n",
      "and what about you?Hello How are you?\n",
      "and what about you?Hello How are you?\n",
      "and what about you?\n"
     ]
    }
   ],
   "source": [
    "#File Handeling\n",
    "\n",
    "append = open(\"Hablu.txt\", \"a\")\n",
    "writefile = open(\"Hablu.txt\", \"r+\")\n",
    "\n",
    "writefile.write(\"Hello How are you?\\nand what about you?\")\n",
    "\n",
    "print(writefile.read())\n",
    "\n"
   ]
  },
  {
   "cell_type": "code",
   "execution_count": 17,
   "metadata": {},
   "outputs": [
    {
     "name": "stdout",
     "output_type": "stream",
     "text": [
      "First Student\n",
      "Student Name: Shahidul Student Age: 35 \n",
      "\n",
      "Second Student\n",
      "Student Name: Yeamin Student Age: 28 \n",
      "\n"
     ]
    }
   ],
   "source": [
    "#Constructor\n",
    "\n",
    "class Student:\n",
    "    def __init__(self, name, age) -> None:\n",
    "        self.StudentName = name\n",
    "        self.StudentAge = age\n",
    "\n",
    "    #Instense Method access Instance variable\n",
    "    def show(self):\n",
    "        print(\"Student Name:\", self.StudentName,  \"Student Age:\", self.StudentAge, \"\\n\")\n",
    "\n",
    "#create First object\n",
    "print(\"First Student\")\n",
    "Student1 = Student(\"Shahidul\", 35)\n",
    "#Call method\n",
    "Student1.show()\n",
    "\n",
    "#Create Second object\n",
    "print(\"Second Student\")\n",
    "Student2 = Student(\"Sumaya\", 28)\n",
    "#Call Method\n",
    "Student2.show()\n",
    "\n"
   ]
  },
  {
   "cell_type": "code",
   "execution_count": 43,
   "metadata": {},
   "outputs": [
    {
     "name": "stdout",
     "output_type": "stream",
     "text": [
      "Ah! your input number is too low, try again!\n",
      "\n",
      "Your input is: 11 \n",
      "Guess number was: 14 \n",
      "\n",
      "Original List: \n",
      "['A', 'B', 'C', 'D', 'E', 'F', 'G']\n",
      "\n",
      "Shuffle list one: \n",
      "['E', 'D', 'C', 'A', 'B', 'F', 'G']\n",
      "\n",
      "Shuffle List two: \n",
      "['D', 'A', 'G', 'F', 'B', 'E', 'C']\n"
     ]
    }
   ],
   "source": [
    "import random\n",
    "\n",
    "randomNumber = random.randrange(10, 15)\n",
    "#print(randomNumber)\n",
    "\n",
    "guessthenumber = int(input(\"Please input a number what you guess and see the result!: \"))\n",
    "\n",
    "if guessthenumber > randomNumber:\n",
    "    print(\"Hola! Your input number is grater then the guess number!\\n\")\n",
    "    print(f\"Your input is: {guessthenumber} \\nGuess number was: {randomNumber}\")\n",
    "elif guessthenumber < randomNumber:\n",
    "    print(\"Ah! your input number is too low, try again!\\n\")\n",
    "    print(f\"Your input is: {guessthenumber} \\nGuess number was: {randomNumber} \")\n",
    "else:\n",
    "    print(\"Wow! your are legend. Matched!\")\n",
    "\n",
    "print()\n",
    "sample_list = [\"A\", \"B\", \"C\", \"D\", \"E\", \"F\", \"G\"]\n",
    "print(f\"Original List: \\n{sample_list}\\n\")\n",
    "\n",
    "print(\"Shuffle list one: \")\n",
    "random.shuffle(sample_list)\n",
    "print(sample_list)\n",
    "print()\n",
    "\n",
    "print(\"Shuffle List two: \")\n",
    "random.shuffle(sample_list)\n",
    "print(sample_list)"
   ]
  },
  {
   "cell_type": "code",
   "execution_count": 2,
   "metadata": {},
   "outputs": [
    {
     "name": "stdout",
     "output_type": "stream",
     "text": [
      "Welcome to the Game!\n",
      "Tiger can eat you so be carefull...\n",
      "This is more dangerus way! You are already dead\n"
     ]
    }
   ],
   "source": [
    "answer = input(\"Are you interested to play quize game? [Yes/No]\")\n",
    "\n",
    "if answer == \"Yes\":\n",
    "    print(\"Welcome to the Game!\")\n",
    "    answer = input(\"Let's chose the pattern. Which animal you like? [Tiger/giraf]\")\n",
    "    if answer == \"Tiger\":\n",
    "        print(\"Tiger can eat you so be carefull...\")\n",
    "        answer = input(\"Which way you would like to go? [Jangle/Road]\")\n",
    "        if answer == \"Jangle\":\n",
    "            print(\"This is more dangerus way! You are already dead\")\n",
    "        elif answer == \"Road\":\n",
    "            print(\"You are save and will as Road is safe way!\")\n",
    "    elif answer == \"giraf\":\n",
    "        print(\"Giraf is nice animal\")\n",
    "else:\n",
    "    print(\"You have closed the game. Thanks\")"
   ]
  },
  {
   "cell_type": "code",
   "execution_count": 2,
   "metadata": {},
   "outputs": [
    {
     "name": "stdout",
     "output_type": "stream",
     "text": [
      "2\n",
      "3\n",
      "3\n",
      "5\n",
      "6\n",
      "6\n",
      "2\n",
      "3\n",
      "4\n",
      "4\n",
      "3\n",
      "4\n",
      "6\n",
      "2\n",
      "6\n",
      "Game Over\n"
     ]
    }
   ],
   "source": [
    "#Dice Rooling Game\n",
    "\n",
    "import random\n",
    "\n",
    "DiceRolling = True\n",
    "\n",
    "while DiceRolling:\n",
    "    print(random.randint(1, 6))\n",
    "    playAgain = input(\"Do you want to play again? [y/n]\")\n",
    "    if playAgain == \"y\":\n",
    "        continue\n",
    "    else:\n",
    "        print(\"Game Over\")\n",
    "        break"
   ]
  },
  {
   "cell_type": "code",
   "execution_count": 1,
   "metadata": {},
   "outputs": [
    {
     "name": "stdout",
     "output_type": "stream",
     "text": [
      "________________________________________"
     ]
    }
   ],
   "source": [
    "#Guess and complete the word\n",
    "\n",
    "word = \"Bangladesh\"\n",
    "chances = 5\n",
    "guessAdd = []\n",
    "done = False\n",
    "\n",
    "while not done:\n",
    "    for letter in word:\n",
    "        if letter.lower() in guessAdd:\n",
    "            print(letter, end=\" \")\n",
    "        else: \n",
    "            print(\"_\", end=\"\")\n",
    "\n",
    "    MyGuess = input(f\"Your chances are {chances}. Guess the letter: \")\n"
   ]
  }
 ],
 "metadata": {
  "kernelspec": {
   "display_name": "venv",
   "language": "python",
   "name": "python3"
  },
  "language_info": {
   "codemirror_mode": {
    "name": "ipython",
    "version": 3
   },
   "file_extension": ".py",
   "mimetype": "text/x-python",
   "name": "python",
   "nbconvert_exporter": "python",
   "pygments_lexer": "ipython3",
   "version": "3.12.0"
  }
 },
 "nbformat": 4,
 "nbformat_minor": 2
}
