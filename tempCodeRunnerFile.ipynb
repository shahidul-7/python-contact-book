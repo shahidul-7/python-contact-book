#Guess and complete the word

word = "Bangladesh"
chances = 5
guessAdd = []
done = False

while not done:
    for letter in word:
        if letter.lower() in guessAdd:
            print(letter, end=" ")
        else: 
            print("_", end="")

    MyGuess = input(f"Your chances are {chances}. Guess the letter: ")
    guessAdd.append(MyGuess.lower())

    if MyGuess.lower() not in word.lower():
        chances -+ 1
        if chances == 0:
            break
    
    done = True
    for letter in word: 
        if letter.lower() not in guessAdd:
            done = False

if done:
    print("Yes, you Wone the game!")
else:
    print("Sorry, you lose the game!")